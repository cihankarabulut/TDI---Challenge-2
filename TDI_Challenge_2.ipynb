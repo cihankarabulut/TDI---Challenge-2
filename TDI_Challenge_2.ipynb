{
 "cells": [
  {
   "cell_type": "markdown",
   "id": "c2f68d03-8190-49b7-ada6-46af35be99f4",
   "metadata": {},
   "source": [
    "## The Data Incubator Challenge #2\n",
    "\n",
    "Consider $n$ buildings on a grid at poisitions $0$ to $n+1$. Each building has a height $h_i$. You can arrange the building in any order but you must the leave the slot at position $0$ open. Imagine a laser is shot just below the roof and to the left of a building. The laser travels any number of grid points until it encounters a building of a same height or taller or reaches the end of the grid, position $0$. For  example, consider $4$ buildings of height $3,3,4,$ and $1$ arranged at the grid points $1,2,3,$ and $4,$ respectively. The laser travels $1,1,3,$ and $1$ grid points for each of the buildings, respectively. Let's call the sum of the lasers' distances $V$. For this example, $V=6$. \n",
    "\n",
    "- Consider $4$ buildings of height $1,1,3,$ and $4$. For all possible configurations, what is the mean of sum of distances $V$?\n",
    "- Consider $4$ buildings of height $1,1,3,$ and $4$. For all possible configurations, what is the standard deviation of the sum of distances $V$?\n",
    "- Consider $10$ buildings of height $1,2,3,\\ldots,10$. For all possible configurations, what is the mean of sum of distances $V$?\n",
    "- Consider $10$ buildings of height $1,2,3,\\ldots,10$. For all possible configurations, what is the standard deviation of the sum of distances $V$?\n",
    "- Consider $20$ buildings of height $1,2,3,\\ldots,20$. For all possible configurations, what is the mean of sum of distances $V$? The calculation of the standard deviation is not needed?\n",
    "\n",
    "For all your questions, give your answer to $10$ places after the decimal point."
   ]
  },
  {
   "cell_type": "markdown",
   "id": "16828134-118c-4e49-9e06-9e0d43d2b83c",
   "metadata": {},
   "source": [
    "### Basic libraries"
   ]
  },
  {
   "cell_type": "code",
   "execution_count": 1,
   "id": "f82f1f1b-2df0-45e4-ba26-823fbbbdbbda",
   "metadata": {},
   "outputs": [],
   "source": [
    "from itertools import permutations\n",
    "import statistics\n",
    "from math import factorial\n",
    "import functools\n",
    "import numpy as np"
   ]
  },
  {
   "cell_type": "markdown",
   "id": "7bc01636-5a78-4d96-a238-478d6d8ca3f0",
   "metadata": {},
   "source": [
    "#### A function that computes $V$ for a given configuration."
   ]
  },
  {
   "cell_type": "code",
   "execution_count": 2,
   "id": "3d272904-1fb2-431e-a3e3-c3a551b5b572",
   "metadata": {},
   "outputs": [],
   "source": [
    "def V(configuration):\n",
    "    \n",
    "    \"\"\"Given a building configuration this function computes the distance laser travels \n",
    "    from each of the buildings in the given configuration and returns the sum of lasers'\n",
    "     distances V for that configuration.\"\"\"\n",
    "    \n",
    "    distances = []\n",
    "    \n",
    "    for i in range(1,len(configuration)):\n",
    "        v = 0\n",
    "        for j in range(1,i+1):            \n",
    "            if configuration[i] == 0:\n",
    "                v=0\n",
    "                break\n",
    "            if configuration[i] == configuration[i-j] and j == 1:\n",
    "                v = 1\n",
    "                break            \n",
    "            if configuration[i] < configuration[i-j] and j==1:\n",
    "                v = 1\n",
    "                break\n",
    "            if configuration[i] < configuration[i-j] and j > 1:\n",
    "                v = j\n",
    "                break\n",
    "            if configuration[i] == configuration[i-j] and j > 1:\n",
    "                v = j\n",
    "                break\n",
    "            if configuration[i] > configuration[i-j]:\n",
    "                v = v+1\n",
    "        distances.append(v)\n",
    "    return sum(distances)\n"
   ]
  },
  {
   "cell_type": "markdown",
   "id": "7fdc6564-1995-4ac7-87fe-5d1c895b9e3a",
   "metadata": {},
   "source": [
    "#### Computing the mean and the standard deviation\n",
    "\n",
    "My first attempt of trying to calculate the mean and std values consisted of\n",
    " 1. Apply $V$ to the permutations of the list of heights\n",
    " 2. Append the values obtained in step 1 to a list\n",
    " 3. Apply `statistics.mean` and `statistics.stdev` to the list obtained in step 2.\n",
    "\n",
    "Although this approach works, it becomes extremely inefficient as the number of buildings increase. In fact I got a memory error after letting it run for a while for $n=13$ buildings. To remedy I tried using an array based approach which actually performed worse than the initial approach. Regardless, both approaches work for calculating the mean and std values for the first four questions, but both fail for the last question due to memory errors. To avoid running into memory errors I defined a function that computes $V$ for each permutation while keeping a cumulative sum of all $V$ values, and returns the mean by dividing the final sum by the number of different configurations. This new function performs slightly better then the previous two, and running it technically shouldn't lead to memory errors since, as oppose to the previous two functions, it doesn't store any lists or arrays in memory. However, this function will still fail to compute the desired answer in a reasonable time frame.\n",
    "\n",
    "\n",
    "Below are the functions using each approach and comparison of their execution times.   "
   ]
  },
  {
   "cell_type": "code",
   "execution_count": 23,
   "id": "81bd6580-67d3-4e87-b21c-102bb58a3dc8",
   "metadata": {},
   "outputs": [],
   "source": [
    "def V_sum_list(heights):\n",
    "    \n",
    "    V_values = []\n",
    "    y = [0]   \n",
    "    for x in permutations(y+ heights): #We add 0 to account for a slot that remains open when arranging n buildings at positions 1 to n+1.\n",
    "        configuration = y+[i for i in x] #We add zero since the spot at zero position must remain open.\n",
    "        V_values.append(V(configuration))\n",
    "    return V_values\n",
    "        "
   ]
  },
  {
   "cell_type": "code",
   "execution_count": 27,
   "id": "e638cab2-e124-4a24-907e-c628aefe3958",
   "metadata": {
    "tags": []
   },
   "outputs": [],
   "source": [
    "def V_sum_arr(heights):\n",
    "    \n",
    "    configurations = np.hstack((np.zeros((factorial(len(heights)+1),1)),\n",
    "                                np.array(list(permutations([0]+heights))))) #Create a 2d array containing all configurations with open slot at position 0. \n",
    "    V_values = np.apply_along_axis(V, 1, configurations) # Apply V to configurations array along the columns to get a 1d array containing V values for each configuration.\n",
    "    return V_values"
   ]
  },
  {
   "cell_type": "code",
   "execution_count": 28,
   "id": "f223f212-d689-49ec-9480-fd5daa921a11",
   "metadata": {},
   "outputs": [],
   "source": [
    "def V_sum_mean(heights): \n",
    "    \n",
    "    sum_of_V_values = 0\n",
    "    for x in permutations([0]+heights): #We add 0 to account for a slot that remains open when arranging n buildings at positions 1 to n+1.\n",
    "        sum_of_V_values += V([0]+list(x)) #We add zero since the spot at zero position must remain open.\n",
    "    return sum_of_V_values/factorial(len(heights)+1)"
   ]
  },
  {
   "cell_type": "code",
   "execution_count": 29,
   "id": "b7d1eddc-1063-4d84-84cb-4673632fbf38",
   "metadata": {},
   "outputs": [
    {
     "name": "stdout",
     "output_type": "stream",
     "text": [
      "1.66 ms ± 35.6 µs per loop (mean ± std. dev. of 7 runs, 100 loops each)\n"
     ]
    }
   ],
   "source": [
    "%timeit V_sum_arr([1,1,3,4]).mean()"
   ]
  },
  {
   "cell_type": "code",
   "execution_count": 30,
   "id": "9b16367c-1947-4006-9225-3504363477e1",
   "metadata": {},
   "outputs": [
    {
     "name": "stdout",
     "output_type": "stream",
     "text": [
      "877 µs ± 56.4 µs per loop (mean ± std. dev. of 7 runs, 1000 loops each)\n"
     ]
    }
   ],
   "source": [
    "%timeit statistics.mean(V_sum_list([1,1,3,4]))"
   ]
  },
  {
   "cell_type": "code",
   "execution_count": 31,
   "id": "bef3cbc5-6745-4da2-b486-6f64571a77a2",
   "metadata": {},
   "outputs": [
    {
     "name": "stdout",
     "output_type": "stream",
     "text": [
      "740 µs ± 9.93 µs per loop (mean ± std. dev. of 7 runs, 1000 loops each)\n"
     ]
    }
   ],
   "source": [
    "%timeit V_sum_mean([1,1,3,4])"
   ]
  },
  {
   "cell_type": "code",
   "execution_count": 33,
   "id": "51db4ba1-a6f1-4772-98a7-f48084df0663",
   "metadata": {},
   "outputs": [
    {
     "name": "stdout",
     "output_type": "stream",
     "text": [
      "1.77 ms ± 146 µs per loop (mean ± std. dev. of 7 runs, 100 loops each)\n"
     ]
    }
   ],
   "source": [
    "%timeit V_sum_arr([1,1,3,4]).std()"
   ]
  },
  {
   "cell_type": "code",
   "execution_count": 34,
   "id": "06374d1e-7fc9-4384-ac01-cd8c5bdaf775",
   "metadata": {},
   "outputs": [
    {
     "name": "stdout",
     "output_type": "stream",
     "text": [
      "1.18 ms ± 8.35 µs per loop (mean ± std. dev. of 7 runs, 1000 loops each)\n"
     ]
    }
   ],
   "source": [
    "%timeit statistics.stdev(V_sum_list([1,1,3,4]))"
   ]
  },
  {
   "cell_type": "markdown",
   "id": "5e0f2ae7-fd89-4db5-a7a0-afad8a098456",
   "metadata": {},
   "source": [
    "#### Answers to the questions"
   ]
  },
  {
   "cell_type": "code",
   "execution_count": 35,
   "id": "01911d78-27dc-459b-b50c-cb4ce222a674",
   "metadata": {},
   "outputs": [
    {
     "data": {
      "text/plain": [
       "7.4"
      ]
     },
     "execution_count": 35,
     "metadata": {},
     "output_type": "execute_result"
    }
   ],
   "source": [
    "statistics.mean(V_sum_list([1,1,3,4]))"
   ]
  },
  {
   "cell_type": "code",
   "execution_count": 36,
   "id": "f5c3b48e-7671-4743-90c9-57be5a09e7a0",
   "metadata": {},
   "outputs": [
    {
     "data": {
      "text/plain": [
       "1.8075472029123616"
      ]
     },
     "execution_count": 36,
     "metadata": {},
     "output_type": "execute_result"
    }
   ],
   "source": [
    "statistics.stdev(V_sum_list([1,1,3,4]))"
   ]
  },
  {
   "cell_type": "code",
   "execution_count": 6,
   "id": "8430c4a6-3012-480f-9210-35db2d497f61",
   "metadata": {},
   "outputs": [
    {
     "data": {
      "text/plain": [
       "24.23852813852814"
      ]
     },
     "execution_count": 6,
     "metadata": {},
     "output_type": "execute_result"
    }
   ],
   "source": [
    "V_sum_mean([1,2,3,4,5,6,7,8,9,10])"
   ]
  },
  {
   "cell_type": "code",
   "execution_count": 37,
   "id": "706eef28-83fc-4311-96cb-bb1113a59c04",
   "metadata": {},
   "outputs": [
    {
     "data": {
      "text/plain": [
       "5.040321077600773"
      ]
     },
     "execution_count": 37,
     "metadata": {},
     "output_type": "execute_result"
    }
   ],
   "source": [
    "statistics.stdev(V_sum_list([1,2,3,4,5,6,7,8,9,10]))"
   ]
  },
  {
   "cell_type": "code",
   "execution_count": null,
   "id": "8dc4dad2-e9af-49ad-bc3f-371db4966f75",
   "metadata": {},
   "outputs": [],
   "source": []
  }
 ],
 "metadata": {
  "kernelspec": {
   "display_name": "Python 3 (ipykernel)",
   "language": "python",
   "name": "python3"
  },
  "language_info": {
   "codemirror_mode": {
    "name": "ipython",
    "version": 3
   },
   "file_extension": ".py",
   "mimetype": "text/x-python",
   "name": "python",
   "nbconvert_exporter": "python",
   "pygments_lexer": "ipython3",
   "version": "3.8.12"
  }
 },
 "nbformat": 4,
 "nbformat_minor": 5
}
